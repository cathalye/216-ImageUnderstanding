{
 "cells": [
  {
   "cell_type": "code",
   "execution_count": 1,
   "metadata": {},
   "outputs": [],
   "source": [
    "import maxflow"
   ]
  },
  {
   "cell_type": "code",
   "execution_count": 2,
   "metadata": {},
   "outputs": [
    {
     "name": "stdout",
     "output_type": "stream",
     "text": [
      "<maxflow._maxflow.GraphInt object at 0x000001FBA4F7A550>\n"
     ]
    }
   ],
   "source": [
    "g = maxflow.Graph[int](2,2)\n",
    "print(g)"
   ]
  },
  {
   "cell_type": "code",
   "execution_count": 3,
   "metadata": {},
   "outputs": [
    {
     "name": "stdout",
     "output_type": "stream",
     "text": [
      "[0 1]\n"
     ]
    }
   ],
   "source": [
    "nodes = g.add_nodes(2)\n",
    "print(nodes) # index to first node?"
   ]
  },
  {
   "cell_type": "code",
   "execution_count": 4,
   "metadata": {},
   "outputs": [],
   "source": [
    "g.add_edge(nodes[0], nodes[1], 1, 2)\n",
    "# edge from nodes[0] to nodes[1] with weight 1\n",
    "# edge from nodes[1] to nodes[0] with weight 2"
   ]
  },
  {
   "cell_type": "code",
   "execution_count": 5,
   "metadata": {},
   "outputs": [],
   "source": [
    "g.add_tedge(nodes[0], 2, 5)\n",
    "# edge FROM SOURCE node to nodes[0] with weight 2\n",
    "# edge from nodes[0] TO TERMINAL node with weight 5"
   ]
  },
  {
   "cell_type": "code",
   "execution_count": 6,
   "metadata": {},
   "outputs": [],
   "source": [
    "g.add_tedge(nodes[1], 9, 4)\n",
    "# edge FROM SOURCE node to nodes[1] with weight 9\n",
    "# edge from nodes[1] TO TERMINAL node with weight 4"
   ]
  },
  {
   "cell_type": "code",
   "execution_count": 7,
   "metadata": {},
   "outputs": [],
   "source": [
    "# g.add_edge - create edge between non-terminal nodes\n",
    "# g.add_tedge - set capacities of terminal edges for existing non-terminal node\n",
    "# g.add_tweights - create edge between non-terminal node and terminal node"
   ]
  },
  {
   "cell_type": "code",
   "execution_count": 8,
   "metadata": {},
   "outputs": [
    {
     "name": "stdout",
     "output_type": "stream",
     "text": [
      "Maximum Flow  8\n"
     ]
    }
   ],
   "source": [
    "flow = g.maxflow()\n",
    "print(\"Maximum Flow \", flow)"
   ]
  },
  {
   "cell_type": "code",
   "execution_count": 9,
   "metadata": {},
   "outputs": [
    {
     "name": "stdout",
     "output_type": "stream",
     "text": [
      "seg of node 0:  1\n",
      "seg of node 1:  0\n"
     ]
    }
   ],
   "source": [
    "print(\"seg of node 0: \", g.get_segment(nodes[0]))\n",
    "print(\"seg of node 1: \", g.get_segment(nodes[1]))\n",
    "# this is the binary segmentation of the graph\n",
    "# returns 1 when node belongs to partition of source node (obj node in our case)\n",
    "# returns 0 when node belongs to partition of terminal node (bkg node in  our case)"
   ]
  },
  {
   "cell_type": "code",
   "execution_count": 10,
   "metadata": {},
   "outputs": [],
   "source": [
    "import numpy as np\n",
    "import scipy\n",
    "import matplotlib.pyplot as plt"
   ]
  },
  {
   "cell_type": "code",
   "execution_count": 11,
   "metadata": {},
   "outputs": [
    {
     "name": "stdout",
     "output_type": "stream",
     "text": [
      "(64, 64) 255.0 0.0\n"
     ]
    },
    {
     "data": {
      "text/plain": [
       "<matplotlib.image.AxesImage at 0x1fba7739d08>"
      ]
     },
     "execution_count": 11,
     "metadata": {},
     "output_type": "execute_result"
    },
    {
     "data": {
      "image/png": "[encoded data removed]",
      "text/plain": [
       "<Figure size 432x288 with 1 Axes>"
      ]
     },
     "metadata": {
      "needs_background": "light"
     },
     "output_type": "display_data"
    }
   ],
   "source": [
    "img = 255*plt.imread('a2.png')\n",
    "print(img.shape, np.max(img), np.min(img))\n",
    "plt.imshow(img, cmap='gray')"
   ]
  },
  {
   "cell_type": "code",
   "execution_count": 12,
   "metadata": {},
   "outputs": [
    {
     "name": "stdout",
     "output_type": "stream",
     "text": [
      "<class 'numpy.ndarray'> (64, 64)\n"
     ]
    }
   ],
   "source": [
    "g = maxflow.Graph[int]()\n",
    "nodeids = g.add_grid_nodes(img.shape)\n",
    "# add the nodes, nodeids has the identifiers of the nodes\n",
    "print(type(nodeids), nodeids.shape)"
   ]
  },
  {
   "cell_type": "code",
   "execution_count": 13,
   "metadata": {},
   "outputs": [],
   "source": [
    "g.add_grid_edges(nodeids, 50)\n",
    "# add non-terminal edges with same weight"
   ]
  },
  {
   "cell_type": "code",
   "execution_count": 14,
   "metadata": {},
   "outputs": [],
   "source": [
    "g.add_grid_tedges(nodeids, img, 255-img)\n",
    "# img (pixel value) is the weight of the edge FROM SOURCE node\n",
    "# 255-img (inverted pixel value) is the weight of the edge TO TERMINAL node"
   ]
  },
  {
   "cell_type": "code",
   "execution_count": 15,
   "metadata": {},
   "outputs": [],
   "source": [
    "g.maxflow()\n",
    "sgm = g.get_grid_segments(nodeids)\n",
    "# vectorized version of calling get_segment on each node\n",
    "# in this case, this will return a binary image with samge size as img"
   ]
  },
  {
   "cell_type": "code",
   "execution_count": 16,
   "metadata": {},
   "outputs": [
    {
     "data": {
      "text/plain": [
       "<matplotlib.image.AxesImage at 0x1fba7972a48>"
      ]
     },
     "execution_count": 16,
     "metadata": {},
     "output_type": "execute_result"
    },
    {
     "data": {
      "image/png": "[encoded data removed]",
      "text/plain": [
       "<Figure size 432x288 with 1 Axes>"
      ]
     },
     "metadata": {
      "needs_background": "light"
     },
     "output_type": "display_data"
    }
   ],
   "source": [
    "img2 = np.int_(np.logical_not(sgm))\n",
    "\n",
    "plt.imshow(img2, cmap='gray')"
   ]
  },
  {
   "cell_type": "code",
   "execution_count": null,
   "metadata": {},
   "outputs": [],
   "source": []
  }
 ],
 "metadata": {
  "kernelspec": {
   "display_name": "Python 3",
   "language": "python",
   "name": "python3"
  },
  "language_info": {
   "codemirror_mode": {
    "name": "ipython",
    "version": 3
   },
   "file_extension": ".py",
   "mimetype": "text/x-python",
   "name": "python",
   "nbconvert_exporter": "python",
   "pygments_lexer": "ipython3",
   "version": "3.7.6"
  }
 },
 "nbformat": 4,
 "nbformat_minor": 4
}
